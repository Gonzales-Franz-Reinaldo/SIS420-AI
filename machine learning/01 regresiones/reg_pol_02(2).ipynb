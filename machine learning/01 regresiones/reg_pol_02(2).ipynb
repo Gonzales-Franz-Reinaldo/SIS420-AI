{
 "cells": [
  {
   "cell_type": "markdown",
   "metadata": {},
   "source": [
    "# Ejercicio de programación Regresión Polinomial"
   ]
  },
  {
   "cell_type": "code",
   "execution_count": 1,
   "metadata": {},
   "outputs": [],
   "source": [
    "# utilizado para manejos de directorios y rutas\n",
    "import os\n",
    "\n",
    "# Computacion vectorial y cientifica para python\n",
    "import numpy as np\n",
    "\n",
    "# Librerias para graficación (trazado de gráficos)\n",
    "from matplotlib import pyplot\n",
    "from mpl_toolkits.mplot3d import Axes3D  # Necesario para graficar superficies 3D\n",
    "\n",
    "# llama a matplotlib a embeber graficas dentro de los cuadernillos\n",
    "%matplotlib inline"
   ]
  },
  {
   "cell_type": "code",
   "execution_count": 2,
   "metadata": {
    "scrolled": true
   },
   "outputs": [],
   "source": [
    "# Cargar datos\n",
    "#data = np.loadtxt(os.path.join('Datasets', 'capacidad_adquisitiva.csv'), delimiter=';')\n",
    "#from numpy import genfromtxt\n",
    "#data = genfromtxt(os.path.join('Datasets', 'capacidad_adquisitiva.csv'), delimiter=';')\n",
    "data = np.loadtxt(os.path.join('Datasets', 'capacidad_adquisitiva.csv'), delimiter=\";\",skiprows=1)\n",
    "#print(data)\n",
    "X = data[:, :1]\n",
    "y = data[:, 1]\n",
    "m = y.size\n",
    "#print(X)\n",
    "#print(y)\n",
    "# imprimir algunos puntos de datos\n",
    "#print('{:>8s}{:>10s}'.format(X, y))\n",
    "#print('-'*26)\n",
    "#for i in range(10):\n",
    "#    print('{:8.0f}{:10.0f}'.format(X[i, 0], y[i]))"
   ]
  },
  {
   "cell_type": "code",
   "execution_count": 3,
   "metadata": {},
   "outputs": [
    {
     "name": "stdout",
     "output_type": "stream",
     "text": [
      "(20, 1)\n",
      "(20, 4)\n",
      "theta = [ 0.00000000e+00 -7.01887847e+02  4.15205454e+01 -4.20149546e-01], b = 1732.2555360109081\n"
     ]
    }
   ],
   "source": [
    "# Importamos la clase de Regresión Lineal de scikit-learn\n",
    "from sklearn.linear_model import LinearRegression \n",
    "\n",
    "# para generar características polinómicas\n",
    "from sklearn.preprocessing import PolynomialFeatures \n",
    "\n",
    "pf = PolynomialFeatures(degree = 3)    # usaremos polinomios de grado 3\n",
    "print(X.shape)\n",
    "X = pf.fit_transform(X.reshape(-1,1))  # transformamos la entrada en polinómica\n",
    "print(X.shape)\n",
    "regresion_lineal = LinearRegression() # creamos una instancia de LinearRegression\n",
    "\n",
    "# instruimos a la regresión lineal que aprenda de los datos (ahora polinómicos) (X,y)\n",
    "regresion_lineal.fit(X, y) \n",
    "\n",
    "# vemos los parámetros que ha estimado la regresión lineal\n",
    "print('theta = ' + str(regresion_lineal.coef_) + ', b = ' + str(regresion_lineal.intercept_))\n",
    "\n",
    "# resultado: w = [0 -4.54 4.95 0.1], b = -57.52"
   ]
  },
  {
   "cell_type": "code",
   "execution_count": 4,
   "metadata": {},
   "outputs": [
    {
     "name": "stdout",
     "output_type": "stream",
     "text": [
      "Error Cuadrático Medio (MSE) = 13738576.542839075\n",
      "Raíz del Error Cuadrático Medio (RMSE) = 3706.5585848383776\n",
      "Coeficiente de Determinación R2 = 0.8000565797601462\n"
     ]
    }
   ],
   "source": [
    "from sklearn.metrics import mean_squared_error # importamos el cálculo del error cuadrático medio (MSE)\n",
    "# Predecimos los valores y para los datos usados en el entrenamiento\n",
    "prediccion_entrenamiento = regresion_lineal.predict(X)\n",
    "# Calculamos el Error Cuadrático Medio (MSE = Mean Squared Error)\n",
    "mse = mean_squared_error(y_true = y, y_pred = prediccion_entrenamiento)\n",
    "# La raíz cuadrada del MSE es el RMSE\n",
    "rmse = np.sqrt(mse)\n",
    "print('Error Cuadrático Medio (MSE) = ' + str(mse))\n",
    "print('Raíz del Error Cuadrático Medio (RMSE) = ' + str(rmse))\n",
    "# calculamos el coeficiente de determinación R2\n",
    "r2 = regresion_lineal.score(X, y)\n",
    "print('Coeficiente de Determinación R2 = ' + str(r2))"
   ]
  },
  {
   "cell_type": "code",
   "execution_count": 5,
   "metadata": {},
   "outputs": [],
   "source": [
    "def plotData(x, y):\n",
    "    #Grafica los puntos x e y en una figura nueva. \n",
    "    \n",
    "    fig = pyplot.figure()  # abre una nueva figura\n",
    "    \n",
    "    pyplot.plot(x, y, 'ro', ms=10, mec='k')\n",
    "    pyplot.ylabel('Edad personas')\n",
    "    pyplot.xlabel('Capacidad adquisitiva 1,000s')\n"
   ]
  },
  {
   "cell_type": "code",
   "execution_count": 6,
   "metadata": {},
   "outputs": [
    {
     "data": {
      "text/plain": [
       "[<matplotlib.lines.Line2D at 0x1b84f99c0a0>]"
      ]
     },
     "execution_count": 6,
     "metadata": {},
     "output_type": "execute_result"
    },
    {
     "data": {
      "image/png": "[encoded data removed]",
      "text/plain": [
       "<Figure size 432x288 with 1 Axes>"
      ]
     },
     "metadata": {
      "needs_background": "light"
     },
     "output_type": "display_data"
    }
   ],
   "source": [
    "plotData(X[:,1], y)\n",
    "pyplot.plot(X[:, 1], np.dot(X, regresion_lineal.coef_), '-')"
   ]
  },
  {
   "cell_type": "code",
   "execution_count": 19,
   "metadata": {},
   "outputs": [
    {
     "name": "stdout",
     "output_type": "stream",
     "text": [
      "[3570.56358447]\n"
     ]
    }
   ],
   "source": [
    "X_array = np.array([25])\n",
    "pf = PolynomialFeatures(degree = 3)    # usaremos polinomios de grado 3\n",
    "X_array = pf.fit_transform(X_array.reshape(-1,1))\n",
    "prediccion_test = regresion_lineal.predict(X_array)\n",
    "print(prediccion_test)"
   ]
  }
 ],
 "metadata": {
  "kernelspec": {
   "display_name": "Python 3",
   "language": "python",
   "name": "python3"
  },
  "language_info": {
   "codemirror_mode": {
    "name": "ipython",
    "version": 3
   },
   "file_extension": ".py",
   "mimetype": "text/x-python",
   "name": "python",
   "nbconvert_exporter": "python",
   "pygments_lexer": "ipython3",
   "version": "3.8.3"
  }
 },
 "nbformat": 4,
 "nbformat_minor": 2
}
