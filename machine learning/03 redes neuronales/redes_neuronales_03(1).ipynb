{
 "cells": [
  {
   "cell_type": "markdown",
   "metadata": {},
   "source": [
    "# Redes Neuronales\n",
    "\n",
    "## Introduction\n",
    "\n",
    "En este ejercicio se implementa una red neuronal para reconocimiento de digitos utilizando keras.\n",
    "\n",
    "Antes de empezar la ejecución de las partes de codigo correspondienters a los ejercicios, se requiere importar todas las librerias necesarias."
   ]
  },
  {
   "cell_type": "code",
   "execution_count": 1,
   "metadata": {},
   "outputs": [],
   "source": [
    "# utilizado para la manipulación de directorios y rutas\n",
    "import os\n",
    "\n",
    "# Cálculo científico y vectorial para python\n",
    "import numpy as np\n",
    "\n",
    "# Libreria para graficos\n",
    "from matplotlib import pyplot as plt\n",
    "\n",
    "# Modulo de optimizacion en scipy\n",
    "from scipy import optimize\n",
    "\n",
    "# modulo para cargar archivos en formato MATLAB\n",
    "from scipy.io import loadmat\n",
    "\n",
    "# le dice a matplotlib que incruste gráficos en el cuaderno\n",
    "%matplotlib inline"
   ]
  },
  {
   "cell_type": "code",
   "execution_count": 2,
   "metadata": {},
   "outputs": [
    {
     "name": "stderr",
     "output_type": "stream",
     "text": [
      "Using TensorFlow backend.\n",
      "C:\\ProgramData\\Anaconda3\\lib\\site-packages\\tensorflow\\python\\framework\\dtypes.py:516: FutureWarning: Passing (type, 1) or '1type' as a synonym of type is deprecated; in a future version of numpy, it will be understood as (type, (1,)) / '(1,)type'.\n",
      "  _np_qint8 = np.dtype([(\"qint8\", np.int8, 1)])\n",
      "C:\\ProgramData\\Anaconda3\\lib\\site-packages\\tensorflow\\python\\framework\\dtypes.py:517: FutureWarning: Passing (type, 1) or '1type' as a synonym of type is deprecated; in a future version of numpy, it will be understood as (type, (1,)) / '(1,)type'.\n",
      "  _np_quint8 = np.dtype([(\"quint8\", np.uint8, 1)])\n",
      "C:\\ProgramData\\Anaconda3\\lib\\site-packages\\tensorflow\\python\\framework\\dtypes.py:518: FutureWarning: Passing (type, 1) or '1type' as a synonym of type is deprecated; in a future version of numpy, it will be understood as (type, (1,)) / '(1,)type'.\n",
      "  _np_qint16 = np.dtype([(\"qint16\", np.int16, 1)])\n",
      "C:\\ProgramData\\Anaconda3\\lib\\site-packages\\tensorflow\\python\\framework\\dtypes.py:519: FutureWarning: Passing (type, 1) or '1type' as a synonym of type is deprecated; in a future version of numpy, it will be understood as (type, (1,)) / '(1,)type'.\n",
      "  _np_quint16 = np.dtype([(\"quint16\", np.uint16, 1)])\n",
      "C:\\ProgramData\\Anaconda3\\lib\\site-packages\\tensorflow\\python\\framework\\dtypes.py:520: FutureWarning: Passing (type, 1) or '1type' as a synonym of type is deprecated; in a future version of numpy, it will be understood as (type, (1,)) / '(1,)type'.\n",
      "  _np_qint32 = np.dtype([(\"qint32\", np.int32, 1)])\n",
      "C:\\ProgramData\\Anaconda3\\lib\\site-packages\\tensorflow\\python\\framework\\dtypes.py:525: FutureWarning: Passing (type, 1) or '1type' as a synonym of type is deprecated; in a future version of numpy, it will be understood as (type, (1,)) / '(1,)type'.\n",
      "  np_resource = np.dtype([(\"resource\", np.ubyte, 1)])\n",
      "C:\\ProgramData\\Anaconda3\\lib\\site-packages\\tensorboard\\compat\\tensorflow_stub\\dtypes.py:541: FutureWarning: Passing (type, 1) or '1type' as a synonym of type is deprecated; in a future version of numpy, it will be understood as (type, (1,)) / '(1,)type'.\n",
      "  _np_qint8 = np.dtype([(\"qint8\", np.int8, 1)])\n",
      "C:\\ProgramData\\Anaconda3\\lib\\site-packages\\tensorboard\\compat\\tensorflow_stub\\dtypes.py:542: FutureWarning: Passing (type, 1) or '1type' as a synonym of type is deprecated; in a future version of numpy, it will be understood as (type, (1,)) / '(1,)type'.\n",
      "  _np_quint8 = np.dtype([(\"quint8\", np.uint8, 1)])\n",
      "C:\\ProgramData\\Anaconda3\\lib\\site-packages\\tensorboard\\compat\\tensorflow_stub\\dtypes.py:543: FutureWarning: Passing (type, 1) or '1type' as a synonym of type is deprecated; in a future version of numpy, it will be understood as (type, (1,)) / '(1,)type'.\n",
      "  _np_qint16 = np.dtype([(\"qint16\", np.int16, 1)])\n",
      "C:\\ProgramData\\Anaconda3\\lib\\site-packages\\tensorboard\\compat\\tensorflow_stub\\dtypes.py:544: FutureWarning: Passing (type, 1) or '1type' as a synonym of type is deprecated; in a future version of numpy, it will be understood as (type, (1,)) / '(1,)type'.\n",
      "  _np_quint16 = np.dtype([(\"quint16\", np.uint16, 1)])\n",
      "C:\\ProgramData\\Anaconda3\\lib\\site-packages\\tensorboard\\compat\\tensorflow_stub\\dtypes.py:545: FutureWarning: Passing (type, 1) or '1type' as a synonym of type is deprecated; in a future version of numpy, it will be understood as (type, (1,)) / '(1,)type'.\n",
      "  _np_qint32 = np.dtype([(\"qint32\", np.int32, 1)])\n",
      "C:\\ProgramData\\Anaconda3\\lib\\site-packages\\tensorboard\\compat\\tensorflow_stub\\dtypes.py:550: FutureWarning: Passing (type, 1) or '1type' as a synonym of type is deprecated; in a future version of numpy, it will be understood as (type, (1,)) / '(1,)type'.\n",
      "  np_resource = np.dtype([(\"resource\", np.ubyte, 1)])\n"
     ]
    }
   ],
   "source": [
    "# Crea tu primer MLP en Keras\n",
    "import keras\n",
    "from keras.datasets import mnist\n",
    "from keras.models import Sequential\n",
    "from keras.layers import Dense\n",
    "from keras.utils import to_categorical\n",
    "\n",
    "\n",
    "#from keras.models import Sequential\n",
    "#from keras.layers import Dense\n",
    "#from keras.utils import np_utils\n",
    "#from keras.layers.core import Dense, Activation, Dropout\n",
    "\n",
    "#import pandas as pd\n",
    "\n",
    "\n",
    "# Fija las semillas aleatorias para la reproducibilidad\n",
    "#np.random.seed(7) "
   ]
  },
  {
   "cell_type": "markdown",
   "metadata": {},
   "source": [
    "Definir el modelo de la red neuronal"
   ]
  },
  {
   "cell_type": "markdown",
   "metadata": {},
   "source": [
    "Lo primero es instanciar el sistema con la llamada a Sequential(), que crea una red neuronal vacía a la que habrá que agregar las capas correspondientes con la instrucción model.add().\n",
    "\n",
    "La primera capa es de tipo “Dense”, es decir, completamente conectada con una dimensionalidad de salida de 512, función de activación ReLu y recibe una entrada unidimensional de longitud 400. Esto se debe a que las imágenes del dataset tienen 20x20 píxeles, es decir, 400 valores en total.\n",
    "\n",
    "A continuación se añade una capa Dropout con parámetro 0.2. Esto se conoce como regularización y su función es prevenir el sobreajuste otorgando a cada neurona una probabilidad del 20% de no activarse durante la fase de entrenamiento. No influye en la topología de nuestra RNA.\n",
    "\n",
    "Seguidamente agregamos una segunda capa Dense con dimensión de salida 512. No es necesario especificar el tamaño de la entrada en ninguna capa salvo en la primera, ya que Keras puede inferirlo del diseño. Luego, otra capa Dropout con igual función que la anterior y finalmente una capa de salida con 10 posibles valores (0-9) y activación softmax."
   ]
  },
  {
   "cell_type": "code",
   "execution_count": 3,
   "metadata": {},
   "outputs": [
    {
     "name": "stdout",
     "output_type": "stream",
     "text": [
      "[[0. 0. 0. ... 0. 0. 0.]\n",
      " [0. 0. 0. ... 0. 0. 0.]\n",
      " [0. 0. 0. ... 0. 0. 0.]\n",
      " ...\n",
      " [0. 0. 0. ... 0. 0. 0.]\n",
      " [0. 0. 0. ... 0. 0. 0.]\n",
      " [0. 0. 0. ... 0. 0. 0.]]\n",
      "[10 10 10 ...  9  9  9]\n",
      "[[[0 0 0 ... 0 0 0]\n",
      "  [0 0 0 ... 0 0 0]\n",
      "  [0 0 0 ... 0 0 0]\n",
      "  ...\n",
      "  [0 0 0 ... 0 0 0]\n",
      "  [0 0 0 ... 0 0 0]\n",
      "  [0 0 0 ... 0 0 0]]\n",
      "\n",
      " [[0 0 0 ... 0 0 0]\n",
      "  [0 0 0 ... 0 0 0]\n",
      "  [0 0 0 ... 0 0 0]\n",
      "  ...\n",
      "  [0 0 0 ... 0 0 0]\n",
      "  [0 0 0 ... 0 0 0]\n",
      "  [0 0 0 ... 0 0 0]]\n",
      "\n",
      " [[0 0 0 ... 0 0 0]\n",
      "  [0 0 0 ... 0 0 0]\n",
      "  [0 0 0 ... 0 0 0]\n",
      "  ...\n",
      "  [0 0 0 ... 0 0 0]\n",
      "  [0 0 0 ... 0 0 0]\n",
      "  [0 0 0 ... 0 0 0]]\n",
      "\n",
      " ...\n",
      "\n",
      " [[0 0 0 ... 0 0 0]\n",
      "  [0 0 0 ... 0 0 0]\n",
      "  [0 0 0 ... 0 0 0]\n",
      "  ...\n",
      "  [0 0 0 ... 0 0 0]\n",
      "  [0 0 0 ... 0 0 0]\n",
      "  [0 0 0 ... 0 0 0]]\n",
      "\n",
      " [[0 0 0 ... 0 0 0]\n",
      "  [0 0 0 ... 0 0 0]\n",
      "  [0 0 0 ... 0 0 0]\n",
      "  ...\n",
      "  [0 0 0 ... 0 0 0]\n",
      "  [0 0 0 ... 0 0 0]\n",
      "  [0 0 0 ... 0 0 0]]\n",
      "\n",
      " [[0 0 0 ... 0 0 0]\n",
      "  [0 0 0 ... 0 0 0]\n",
      "  [0 0 0 ... 0 0 0]\n",
      "  ...\n",
      "  [0 0 0 ... 0 0 0]\n",
      "  [0 0 0 ... 0 0 0]\n",
      "  [0 0 0 ... 0 0 0]]]\n",
      "[5 0 4 ... 5 6 8]\n",
      "[[0 0 0 ... 0 0 0]\n",
      " [0 0 0 ... 0 0 0]\n",
      " [0 0 0 ... 0 0 0]\n",
      " ...\n",
      " [0 0 0 ... 0 0 0]\n",
      " [0 0 0 ... 0 0 0]\n",
      " [0 0 0 ... 0 0 0]]\n",
      "[[0. 0. 0. ... 0. 0. 0.]\n",
      " [0. 0. 0. ... 0. 0. 0.]\n",
      " [0. 0. 0. ... 0. 0. 0.]\n",
      " ...\n",
      " [0. 0. 0. ... 0. 0. 0.]\n",
      " [0. 0. 0. ... 0. 0. 0.]\n",
      " [0. 0. 0. ... 0. 0. 0.]]\n",
      "[[0. 0. 0. ... 0. 0. 0.]\n",
      " [1. 0. 0. ... 0. 0. 0.]\n",
      " [0. 0. 0. ... 0. 0. 0.]\n",
      " ...\n",
      " [0. 0. 0. ... 0. 0. 0.]\n",
      " [0. 0. 0. ... 0. 0. 0.]\n",
      " [0. 0. 0. ... 0. 0. 0.]]\n"
     ]
    },
    {
     "data": {
      "image/png": "[encoded data removed]",
      "text/plain": [
       "<Figure size 432x288 with 1 Axes>"
      ]
     },
     "metadata": {
      "needs_background": "light"
     },
     "output_type": "display_data"
    },
    {
     "data": {
      "image/png": "[encoded data removed]",
      "text/plain": [
       "<Figure size 432x288 with 1 Axes>"
      ]
     },
     "metadata": {
      "needs_background": "light"
     },
     "output_type": "display_data"
    }
   ],
   "source": [
    "#  datos de entrenamiento almacenados en los arreglos X, y\n",
    "data = loadmat(os.path.join('Datasets', 'ex3data1.mat'))\n",
    "X, y = data['X'], data['y'].ravel()\n",
    "\n",
    "print(X)\n",
    "print(y)\n",
    "\n",
    "# Load the data\n",
    "(X_train, Y_train), (X_test, Y_test) = mnist.load_data()\n",
    "print(X_train)\n",
    "print(Y_train)\n",
    "\n",
    "feature_vector_length = 784\n",
    "num_classes = 6000\n",
    "\n",
    "X_train = X_train.reshape(X_train.shape[0], feature_vector_length)\n",
    "\n",
    "print(X_train)\n",
    "\n",
    "X_train = X_train.astype('float32')\n",
    "X_train /= 255\n",
    "\n",
    "print(X_train)\n",
    "\n",
    "Y_train = to_categorical(Y_train, num_classes)\n",
    "\n",
    "print(Y_train)\n",
    "\n",
    "# Visualize one sample\n",
    "plt.imshow(X_train[0].reshape(28, 28, order='F'), cmap='Greys', extent=[0, 1, 0, 1])\n",
    "plt.show()\n",
    "\n",
    "\n",
    "# Visualize one sample\n",
    "plt.imshow(X[0].reshape(20, 20, order='F'), cmap='Greys', extent=[0, 1, 0, 1])\n",
    "plt.show()\n"
   ]
  },
  {
   "cell_type": "code",
   "execution_count": 4,
   "metadata": {},
   "outputs": [],
   "source": [
    "# Ingresar imágenes de dígitos de 20x20\n",
    "#input_layer_size  = 400\n",
    "# Configuration options\n",
    "numero_caracteristicas = 400\n",
    "num_labels = 10\n",
    "\n",
    "# 10 etiquetas, de 1 a 10 (tomar en cuenta que se asigna \"0\" a la etiqueta 10)\n",
    "num_labels = 10\n",
    "\n",
    "# establecer el dígito cero en 0, en lugar del 10 asignado a este conjunto de datos\n",
    "# Esto se hace debido a que el conjunto de datos se utilizó en MATLAB donde no hay índice 0\n",
    "y[y == 10] = 0\n",
    "\n",
    "m = y.size\n",
    "\n",
    "# Convert target classes to categorical ones\n",
    "y = to_categorical(y, num_labels)\n",
    "\n",
    "\n",
    "# Visualize one sample\n"
   ]
  },
  {
   "cell_type": "code",
   "execution_count": 5,
   "metadata": {},
   "outputs": [
    {
     "name": "stdout",
     "output_type": "stream",
     "text": [
      "Feature shape: (400,)\n",
      "Model: \"sequential_1\"\n",
      "_________________________________________________________________\n",
      "Layer (type)                 Output Shape              Param #   \n",
      "=================================================================\n",
      "dense_1 (Dense)              (None, 50)                20050     \n",
      "_________________________________________________________________\n",
      "dense_2 (Dense)              (None, 10)                510       \n",
      "=================================================================\n",
      "Total params: 20,560\n",
      "Trainable params: 20,560\n",
      "Non-trainable params: 0\n",
      "_________________________________________________________________\n"
     ]
    }
   ],
   "source": [
    "# crea el modelo\n",
    "\n",
    "\n",
    "# Set the input shape\n",
    "#input_shape = (feature_vector_length,)\n",
    "input_shape = (numero_caracteristicas,)\n",
    "\n",
    "print(f'Feature shape: {input_shape}')\n",
    "\n",
    "# Create the model\n",
    "#model = Sequential()\n",
    "#model.add(Dense(400, input_shape=input_shape, activation='relu'))\n",
    "#model.add(Dense(100, activation='relu'))\n",
    "#model.add(Dense(num_labels, activation='softmax'))\n",
    "\n",
    "# Create the model\n",
    "model = Sequential()\n",
    "model.add(Dense(50, input_shape=input_shape, activation='relu'))\n",
    "#model.add(Dense(50, activation='relu'))\n",
    "model.add(Dense(num_labels, activation='softmax'))\n",
    "model.summary()"
   ]
  },
  {
   "cell_type": "markdown",
   "metadata": {},
   "source": [
    "Modelo de compilación de la Red Neuronal\n",
    "\n",
    "Al compilar, debemos especicar algunas propiedades adicionales necesarias para la formación de la red. Recuerde que\n",
    "entrenar una red signica encontrar el mejor conjunto de pesos para hacer predicciones para este problema.\n",
    "Debemos especicar la función de pérdida a utilizar para evaluar un conjunto de pesos, el optimizador utilizado para buscar a\n",
    "través de diferentes pesos para la red y cualquier métrica opcional que nos gustaría recopilar y reportar durante el\n",
    "entrenamiento.\n",
    "En este caso, utilizaremos la pérdida logarítmica, que para un problema de clasicación binaria se dene en Keras como\n",
    "“binary_crossentropy”. También utilizaremos el algoritmo de descenso de gradiente eciente “adam” por su alta eciencia en\n",
    "estos problemas.\n",
    "Finalmente, debido a que es un problema de clasicación, recopilaremos y reportaremos la exactitud de la clasicación como la\n",
    "métrica.\n",
    "\n",
    "Mediante la llamada a compile le proporcionamos al sistema la función de pérdidas que queremos minimizar durante el entrenamiento, el tipo de algoritmo que usaremos para hacerlo y las métricas que nos gustaría conocer. En un problema de clasificación como el de este ejemplo, siempre querremos ver la medida de precisión (accuracy) de nuestro modelo."
   ]
  },
  {
   "cell_type": "code",
   "execution_count": 6,
   "metadata": {},
   "outputs": [
    {
     "name": "stdout",
     "output_type": "stream",
     "text": [
      "WARNING:tensorflow:From C:\\ProgramData\\Anaconda3\\lib\\site-packages\\keras\\backend\\tensorflow_backend.py:422: The name tf.global_variables is deprecated. Please use tf.compat.v1.global_variables instead.\n",
      "\n",
      "Train on 4000 samples, validate on 1000 samples\n",
      "Epoch 1/50\n",
      " - 0s - loss: 2.0638 - accuracy: 0.2988 - val_loss: 3.3383 - val_accuracy: 0.0000e+00\n",
      "Epoch 2/50\n",
      " - 0s - loss: 1.3943 - accuracy: 0.7228 - val_loss: 4.2839 - val_accuracy: 0.0000e+00\n",
      "Epoch 3/50\n",
      " - 0s - loss: 0.9054 - accuracy: 0.8508 - val_loss: 5.2186 - val_accuracy: 0.0000e+00\n",
      "Epoch 4/50\n",
      " - 0s - loss: 0.6180 - accuracy: 0.8790 - val_loss: 6.0299 - val_accuracy: 0.0000e+00\n",
      "Epoch 5/50\n",
      " - 0s - loss: 0.4722 - accuracy: 0.8992 - val_loss: 6.6573 - val_accuracy: 0.0000e+00\n",
      "Epoch 6/50\n",
      " - 0s - loss: 0.3902 - accuracy: 0.9137 - val_loss: 7.1355 - val_accuracy: 0.0000e+00\n",
      "Epoch 7/50\n",
      " - 0s - loss: 0.3406 - accuracy: 0.9210 - val_loss: 7.4898 - val_accuracy: 0.0000e+00\n",
      "Epoch 8/50\n",
      " - 0s - loss: 0.3053 - accuracy: 0.9255 - val_loss: 7.8234 - val_accuracy: 0.0000e+00\n",
      "Epoch 9/50\n",
      " - 0s - loss: 0.2792 - accuracy: 0.9330 - val_loss: 8.0616 - val_accuracy: 0.0000e+00\n",
      "Epoch 10/50\n",
      " - 0s - loss: 0.2579 - accuracy: 0.9383 - val_loss: 8.2647 - val_accuracy: 0.0000e+00\n",
      "Epoch 11/50\n",
      " - 0s - loss: 0.2405 - accuracy: 0.9423 - val_loss: 8.4758 - val_accuracy: 0.0000e+00\n",
      "Epoch 12/50\n",
      " - 0s - loss: 0.2257 - accuracy: 0.9440 - val_loss: 8.6195 - val_accuracy: 0.0000e+00\n",
      "Epoch 13/50\n",
      " - 0s - loss: 0.2140 - accuracy: 0.9473 - val_loss: 8.7628 - val_accuracy: 0.0000e+00\n",
      "Epoch 14/50\n",
      " - 0s - loss: 0.2034 - accuracy: 0.9480 - val_loss: 8.9275 - val_accuracy: 0.0000e+00\n",
      "Epoch 15/50\n",
      " - 0s - loss: 0.1948 - accuracy: 0.9510 - val_loss: 9.0396 - val_accuracy: 0.0000e+00\n",
      "Epoch 16/50\n",
      " - 0s - loss: 0.1871 - accuracy: 0.9503 - val_loss: 9.1875 - val_accuracy: 0.0000e+00\n",
      "Epoch 17/50\n",
      " - 0s - loss: 0.1787 - accuracy: 0.9535 - val_loss: 9.3055 - val_accuracy: 0.0000e+00\n",
      "Epoch 18/50\n",
      " - 0s - loss: 0.1714 - accuracy: 0.9575 - val_loss: 9.3935 - val_accuracy: 0.0000e+00\n",
      "Epoch 19/50\n",
      " - 0s - loss: 0.1651 - accuracy: 0.9565 - val_loss: 9.5094 - val_accuracy: 0.0000e+00\n",
      "Epoch 20/50\n",
      " - 0s - loss: 0.1594 - accuracy: 0.9588 - val_loss: 9.5705 - val_accuracy: 0.0000e+00\n",
      "Epoch 21/50\n",
      " - 0s - loss: 0.1533 - accuracy: 0.9597 - val_loss: 9.7040 - val_accuracy: 0.0000e+00\n",
      "Epoch 22/50\n",
      " - 0s - loss: 0.1493 - accuracy: 0.9603 - val_loss: 9.8092 - val_accuracy: 0.0000e+00\n",
      "Epoch 23/50\n",
      " - 0s - loss: 0.1433 - accuracy: 0.9635 - val_loss: 9.8826 - val_accuracy: 0.0000e+00\n",
      "Epoch 24/50\n",
      " - 0s - loss: 0.1385 - accuracy: 0.9640 - val_loss: 9.9839 - val_accuracy: 0.0000e+00\n",
      "Epoch 25/50\n",
      " - 0s - loss: 0.1336 - accuracy: 0.9663 - val_loss: 10.0782 - val_accuracy: 0.0000e+00\n",
      "Epoch 26/50\n",
      " - 0s - loss: 0.1304 - accuracy: 0.9655 - val_loss: 10.1537 - val_accuracy: 0.0000e+00\n",
      "Epoch 27/50\n",
      " - 0s - loss: 0.1259 - accuracy: 0.9675 - val_loss: 10.2511 - val_accuracy: 0.0000e+00\n",
      "Epoch 28/50\n",
      " - 0s - loss: 0.1220 - accuracy: 0.9682 - val_loss: 10.3293 - val_accuracy: 0.0000e+00\n",
      "Epoch 29/50\n",
      " - 0s - loss: 0.1192 - accuracy: 0.9693 - val_loss: 10.3887 - val_accuracy: 0.0000e+00\n",
      "Epoch 30/50\n",
      " - 0s - loss: 0.1152 - accuracy: 0.9700 - val_loss: 10.4782 - val_accuracy: 0.0000e+00\n",
      "Epoch 31/50\n",
      " - 0s - loss: 0.1116 - accuracy: 0.9715 - val_loss: 10.5830 - val_accuracy: 0.0000e+00\n",
      "Epoch 32/50\n",
      " - 0s - loss: 0.1085 - accuracy: 0.9725 - val_loss: 10.6284 - val_accuracy: 0.0000e+00\n",
      "Epoch 33/50\n",
      " - 0s - loss: 0.1052 - accuracy: 0.9737 - val_loss: 10.7340 - val_accuracy: 0.0000e+00\n",
      "Epoch 34/50\n",
      " - 0s - loss: 0.1029 - accuracy: 0.9755 - val_loss: 10.7525 - val_accuracy: 0.0000e+00\n",
      "Epoch 35/50\n",
      " - 0s - loss: 0.1001 - accuracy: 0.9768 - val_loss: 10.8877 - val_accuracy: 0.0000e+00\n",
      "Epoch 36/50\n",
      " - 0s - loss: 0.0974 - accuracy: 0.9772 - val_loss: 10.9323 - val_accuracy: 0.0000e+00\n",
      "Epoch 37/50\n",
      " - 0s - loss: 0.0951 - accuracy: 0.9780 - val_loss: 11.0030 - val_accuracy: 0.0000e+00\n",
      "Epoch 38/50\n",
      " - 0s - loss: 0.0917 - accuracy: 0.9800 - val_loss: 11.0729 - val_accuracy: 0.0000e+00\n",
      "Epoch 39/50\n",
      " - 0s - loss: 0.0891 - accuracy: 0.9812 - val_loss: 11.1670 - val_accuracy: 0.0000e+00\n",
      "Epoch 40/50\n",
      " - 0s - loss: 0.0872 - accuracy: 0.9822 - val_loss: 11.2180 - val_accuracy: 0.0000e+00\n",
      "Epoch 41/50\n",
      " - 0s - loss: 0.0844 - accuracy: 0.9830 - val_loss: 11.3210 - val_accuracy: 0.0000e+00\n",
      "Epoch 42/50\n",
      " - 0s - loss: 0.0821 - accuracy: 0.9833 - val_loss: 11.3662 - val_accuracy: 0.0000e+00\n",
      "Epoch 43/50\n",
      " - 0s - loss: 0.0810 - accuracy: 0.9835 - val_loss: 11.4933 - val_accuracy: 0.0000e+00\n",
      "Epoch 44/50\n",
      " - 0s - loss: 0.0785 - accuracy: 0.9835 - val_loss: 11.4881 - val_accuracy: 0.0000e+00\n",
      "Epoch 45/50\n",
      " - 0s - loss: 0.0757 - accuracy: 0.9858 - val_loss: 11.5796 - val_accuracy: 0.0000e+00\n",
      "Epoch 46/50\n",
      " - 0s - loss: 0.0742 - accuracy: 0.9868 - val_loss: 11.5993 - val_accuracy: 0.0000e+00\n",
      "Epoch 47/50\n",
      " - 0s - loss: 0.0721 - accuracy: 0.9865 - val_loss: 11.6812 - val_accuracy: 0.0000e+00\n",
      "Epoch 48/50\n",
      " - 0s - loss: 0.0698 - accuracy: 0.9872 - val_loss: 11.7463 - val_accuracy: 0.0000e+00\n",
      "Epoch 49/50\n",
      " - 0s - loss: 0.0684 - accuracy: 0.9872 - val_loss: 11.7820 - val_accuracy: 0.0000e+00\n",
      "Epoch 50/50\n",
      " - 0s - loss: 0.0665 - accuracy: 0.9877 - val_loss: 11.8778 - val_accuracy: 0.0000e+00\n"
     ]
    },
    {
     "data": {
      "text/plain": [
       "<keras.callbacks.callbacks.History at 0x260982724c8>"
      ]
     },
     "execution_count": 6,
     "metadata": {},
     "output_type": "execute_result"
    }
   ],
   "source": [
    "# Compila el modelo\n",
    "# model.compile(loss='binary_crossentropy', optimizer='adam', metrics=['accuracy']) \n",
    "# model.compile(loss='categorical_crossentropy', optimizer=RMSprop(), metrics=['accuracy'])\n",
    "# Configure the model and start training\n",
    "\n",
    "model.compile(loss='categorical_crossentropy', optimizer='adam', metrics=['accuracy'])\n",
    "model.fit(X, y, epochs=50, batch_size=250, verbose=2, validation_split=0.2)\n",
    "\n",
    "# Configure the model and start training\n",
    "#model.compile(loss='categorical_crossentropy', optimizer='adam', metrics=['accuracy'])\n",
    "#model.fit(X_train, Y_train, epochs=10, batch_size=250, verbose=1, validation_split=0.2)"
   ]
  },
  {
   "cell_type": "markdown",
   "metadata": {},
   "source": [
    "Modelo de ajuste de la Red Neuronal\n",
    "\n",
    "Hemos denido nuestro modelo y lo hemos compilado listo para un cálculo eciente. Ahora es el momento de ejecutar el\n",
    "modelo sobre algunos datos. Podemos entrenar o ajustar nuestro modelo a los datos cargados llamando a la función t() en el\n",
    "modelo.\n",
    "\n",
    "El proceso de entrenamiento se ejecutará para un número jo de iteraciones denominado epochs o épocas. También\n",
    "podemos establecer el número de instancias que se evalúan antes de que se realice una actualización de peso en la red\n",
    "llamada batch_size y establecerlo mediante el argumento batch_size. Para este problema utilizaremos un pequeño número de epochs (150) y un batch_size relativamente pequeño (10). Una vez más, estos pueden ser elegidos experimentalmente por\n",
    "ensayo y error."
   ]
  },
  {
   "cell_type": "code",
   "execution_count": 7,
   "metadata": {},
   "outputs": [
    {
     "name": "stdout",
     "output_type": "stream",
     "text": [
      "5000/5000 [==============================] - 0s 13us/step\n",
      "Test results - Loss: 2.426734617626667 - Accuracy: 0.7914000153541565%\n"
     ]
    }
   ],
   "source": [
    "# Test the model after training\n",
    "test_results = model.evaluate(X, y, verbose=1)\n",
    "print(f'Test results - Loss: {test_results[0]} - Accuracy: {test_results[1]}%')\n",
    "\n",
    "\n",
    "#test_results = model.evaluate(X_test, Y_test, verbose=1)\n",
    "#print(f'Test results - Loss: {test_results[0]} - Accuracy: {test_results[1]}%')"
   ]
  },
  {
   "cell_type": "code",
   "execution_count": 8,
   "metadata": {},
   "outputs": [],
   "source": [
    "# Ajusta el modelo\n",
    "# model.fit(X, y, epochs=150, batch_size=10)\n",
    "#batch_size = 10\n",
    "#model.fit(X, y, batch_size=batch_size, epochs=150)\n"
   ]
  },
  {
   "cell_type": "markdown",
   "metadata": {},
   "source": [
    "Evaluar el modelo de la Red Neuronal\n",
    "\n",
    "Hemos entrenado nuestra red neuronal en todo el conjunto de datos y podemos evaluar el rendimiento de la red en el mismo\n",
    "conjunto de datos.\n",
    "\n",
    "Esto sólo nos dará una idea de lo bien que hemos modelado el conjunto de datos, pero no nos dará una idea de lo bien que el\n",
    "algoritmo podría funcionar con los nuevos datos. Hemos hecho esto por simplicidad, pero lo ideal sería que separara sus datos\n",
    "en conjuntos de datos de entreno y de prueba para la formación y evaluación de su modelo. Resaltamos esta frase ya que es\n",
    "importante:\n",
    "\n",
    "lo ideal sería que separara sus datos en conjuntos de datos de entreno y de prueba para la formación y evaluación de su\n",
    "modelo.\n",
    "\n",
    "Usted puede evaluar su modelo en su conjunto de datos de entrenamiento usando la función evaluate() y pasarle la misma\n",
    "entrada y salida usada para entrenar el modelo.\n",
    "\n",
    "Esto generará una predicción para cada par de entrada y salida y recogerá las puntuaciones, incluyendo la pérdida media y\n",
    "cualquier métrica que haya congurado, como la precisión."
   ]
  },
  {
   "cell_type": "code",
   "execution_count": 9,
   "metadata": {},
   "outputs": [
    {
     "name": "stdout",
     "output_type": "stream",
     "text": [
      "5000/5000 [==============================] - 0s 14us/step\n",
      "\n",
      "accuracy: 79.14%\n"
     ]
    }
   ],
   "source": [
    "# evalua el modelo\n",
    "scores = model.evaluate(X, y)\n",
    "print(\"\\n%s: %.2f%%\" % (model.metrics_names[1], scores[1]*100))"
   ]
  },
  {
   "cell_type": "markdown",
   "metadata": {},
   "source": [
    "Predicción"
   ]
  },
  {
   "cell_type": "code",
   "execution_count": 10,
   "metadata": {},
   "outputs": [
    {
     "data": {
      "image/png": "[encoded data removed]",
      "text/plain": [
       "<Figure size 432x288 with 1 Axes>"
      ]
     },
     "metadata": {
      "needs_background": "light"
     },
     "output_type": "display_data"
    },
    {
     "name": "stdout",
     "output_type": "stream",
     "text": [
      "[5]\n"
     ]
    }
   ],
   "source": [
    "# print(X[0, :])\n",
    "Xnew = X[2706].reshape(1, 400)\n",
    "# print(Xnew)\n",
    "# Visualize one sample\n",
    "plt.imshow(X[2706].reshape(20, 20, order='F'), cmap='Greys', extent=[0, 1, 0, 1])\n",
    "plt.show()\n",
    "\n",
    "ynew = model.predict_classes(Xnew)\n",
    "print(ynew)"
   ]
  },
  {
   "cell_type": "markdown",
   "metadata": {},
   "source": [
    "### 1.2 Visualización de los datos\n",
    "\n",
    "Se comenzará visualizando un subconjunto del conjunto de entrenamiento. Se selecciona al azar, 100 filas de `X` y pasa esas filas a la función` displayData`. Esta función asigna cada fila a una imagen en escala de grises de 20 píxeles por 20 píxeles y muestra las imágenes juntas."
   ]
  },
  {
   "cell_type": "code",
   "execution_count": 11,
   "metadata": {},
   "outputs": [],
   "source": [
    "def displayData(X, example_width=None, figsize=(10, 10)):\n",
    "    \"\"\"\n",
    "    Muestra datos 2D almacenados en X en una cuadrícula apropiada.\n",
    "    \"\"\"\n",
    "    # Calcula filas, columnas\n",
    "    if X.ndim == 2:\n",
    "        m, n = X.shape\n",
    "    elif X.ndim == 1:\n",
    "        n = X.size\n",
    "        m = 1\n",
    "        X = X[None]  # Promocionar a una matriz bidimensional\n",
    "    else:\n",
    "        raise IndexError('La entrada X debe ser 1 o 2 dimensinal.')\n",
    "\n",
    "    example_width = example_width or int(np.round(np.sqrt(n)))\n",
    "    example_height = n / example_width\n",
    "\n",
    "    # Calcula el numero de elementos a mostrar\n",
    "    display_rows = int(np.floor(np.sqrt(m)))\n",
    "    display_cols = int(np.ceil(m / display_rows))\n",
    "\n",
    "    fig, ax_array = pyplot.subplots(display_rows, display_cols, figsize=figsize)\n",
    "    fig.subplots_adjust(wspace=0.025, hspace=0.025)\n",
    "\n",
    "    ax_array = [ax_array] if m == 1 else ax_array.ravel()\n",
    "\n",
    "    for i, ax in enumerate(ax_array):\n",
    "        ax.imshow(X[i].reshape(example_width, example_width, order='F'),\n",
    "                  cmap='Greys', extent=[0, 1, 0, 1])\n",
    "        ax.axis('off')"
   ]
  },
  {
   "cell_type": "code",
   "execution_count": 12,
   "metadata": {},
   "outputs": [],
   "source": [
    "def sigmoid(z):\n",
    "    \"\"\"\n",
    "    Computes the sigmoid of z.\n",
    "    \"\"\"\n",
    "    return 1.0 / (1.0 + np.exp(-z))"
   ]
  },
  {
   "cell_type": "markdown",
   "metadata": {},
   "source": [
    "## 2 Neural Networks\n",
    "\n",
    "In the previous part of this exercise, you implemented multi-class logistic regression to recognize handwritten digits. However, logistic regression cannot form more complex hypotheses as it is only a linear classifier (You could add more features - such as polynomial features - to logistic regression, but that can be very expensive to train).\n",
    "\n",
    "In this part of the exercise, you will implement a neural network to recognize handwritten digits using the same training set as before. The neural network will be able to represent complex models that form non-linear hypotheses. For this week, you will be using parameters from a neural network that we have already trained. Your goal is to implement the feedforward propagation algorithm to use our weights for prediction. In next week’s exercise, you will write the backpropagation algorithm for learning the neural network parameters. \n",
    "\n",
    "We start by first reloading and visualizing the dataset which contains the MNIST handwritten digits (this is the same as we did in the first part of this exercise, we reload it here to ensure the variables have not been modified). "
   ]
  },
  {
   "cell_type": "markdown",
   "metadata": {},
   "source": [
    "\n",
    "### 2.1 Model representation \n",
    "\n",
    "Our neural network is shown in the following figure.\n",
    "\n",
    "![Neural network](Figures/neuralnetwork.png)\n",
    "\n",
    "It has 3 layers: an input layer, a hidden layer and an output layer. Recall that our inputs are pixel values of digit images. Since the images are of size 20×20, this gives us 400 input layer units (excluding the extra bias unit which always outputs +1). As before, the training data will be loaded into the variables X and y. \n",
    "\n",
    "You have been provided with a set of network parameters ($\\Theta^{(1)}$, $\\Theta^{(2)}$) already trained by us. These are stored in `ex3weights.mat`. The following cell loads those parameters into  `Theta1` and `Theta2`. The parameters have dimensions that are sized for a neural network with 25 units in the second layer and 10 output units (corresponding to the 10 digit classes)."
   ]
  },
  {
   "cell_type": "code",
   "execution_count": 13,
   "metadata": {},
   "outputs": [],
   "source": [
    "# Setup the parameters you will use for this exercise\n",
    "input_layer_size  = 400  # 20x20 Input Images of Digits\n",
    "hidden_layer_size = 25   # 25 hidden units\n",
    "num_labels = 10          # 10 labels, from 0 to 9\n",
    "\n",
    "# Load the .mat file, which returns a dictionary \n",
    "weights = loadmat(os.path.join('Datasets', 'ex3weights.mat'))\n",
    "\n",
    "# get the model weights from the dictionary\n",
    "# Theta1 has size 25 x 401\n",
    "# Theta2 has size 10 x 26\n",
    "Theta1, Theta2 = weights['Theta1'], weights['Theta2']\n",
    "\n",
    "# swap first and last columns of Theta2, due to legacy from MATLAB indexing, \n",
    "# since the weight file ex3weights.mat was saved based on MATLAB indexing\n",
    "Theta2 = np.roll(Theta2, 1, axis=0)"
   ]
  },
  {
   "cell_type": "code",
   "execution_count": 14,
   "metadata": {},
   "outputs": [
    {
     "data": {
      "text/plain": [
       "(25, 401)"
      ]
     },
     "execution_count": 14,
     "metadata": {},
     "output_type": "execute_result"
    }
   ],
   "source": [
    "Theta1.shape"
   ]
  },
  {
   "cell_type": "markdown",
   "metadata": {},
   "source": [
    "<a id=\"section4\"></a>\n",
    "### 2.2 Feedforward Propagation and Prediction\n",
    "\n",
    "Now you will implement feedforward propagation for the neural network. You will need to complete the code in the function `predict` to return the neural network’s prediction. You should implement the feedforward computation that computes $h_\\theta(x^{(i)})$ for every example $i$ and returns the associated predictions. Similar to the one-vs-all classification strategy, the prediction from the neural network will be the label that has the largest output $\\left( h_\\theta(x) \\right)_k$.\n",
    "\n",
    "<div class=\"alert alert-box alert-warning\">\n",
    "**Implementation Note:** The matrix $X$ contains the examples in rows. When you complete the code in the function `predict`, you will need to add the column of 1’s to the matrix. The matrices `Theta1` and `Theta2` contain the parameters for each unit in rows. Specifically, the first row of `Theta1` corresponds to the first hidden unit in the second layer. In `numpy`, when you compute $z^{(2)} = \\theta^{(1)}a^{(1)}$, be sure that you index (and if necessary, transpose) $X$ correctly so that you get $a^{(l)}$ as a 1-D vector.\n",
    "</div>\n",
    "<a id=\"predict\"></a>"
   ]
  },
  {
   "cell_type": "code",
   "execution_count": 15,
   "metadata": {},
   "outputs": [],
   "source": [
    "def predict(Theta1, Theta2, X):\n",
    "    \"\"\"\n",
    "    Predict the label of an input given a trained neural network.\n",
    "    \n",
    "    Parameters\n",
    "    ----------\n",
    "    Theta1 : array_like\n",
    "        Weights for the first layer in the neural network.\n",
    "        It has shape (2nd hidden layer size x input size)\n",
    "    \n",
    "    Theta2: array_like\n",
    "        Weights for the second layer in the neural network. \n",
    "        It has shape (output layer size x 2nd hidden layer size)\n",
    "    \n",
    "    X : array_like\n",
    "        The image inputs having shape (number of examples x image dimensions).\n",
    "    \n",
    "    Return \n",
    "    ------\n",
    "    p : array_like\n",
    "        Predictions vector containing the predicted label for each example.\n",
    "        It has a length equal to the number of examples.\n",
    "    \n",
    "    Instructions\n",
    "    ------------\n",
    "    Complete the following code to make predictions using your learned neural\n",
    "    network. You should set p to a vector containing labels \n",
    "    between 0 to (num_labels-1).\n",
    "     \n",
    "    Hint\n",
    "    ----\n",
    "    This code can be done all vectorized using the numpy argmax function.\n",
    "    In particular, the argmax function returns the index of the  max element,\n",
    "    for more information see '?np.argmax' or search online. If your examples\n",
    "    are in rows, then, you can use np.argmax(A, axis=1) to obtain the index\n",
    "    of the max for each row.\n",
    "    \n",
    "    Note\n",
    "    ----\n",
    "    Remember, we have supplied the `sigmoid` function in the `utils.py` file. \n",
    "    You can use this function by calling `utils.sigmoid(z)`, where you can \n",
    "    replace `z` by the required input variable to sigmoid.\n",
    "    \"\"\"\n",
    "    # Make sure the input has two dimensions\n",
    "    if X.ndim == 1:\n",
    "        X = X[None]  # promote to 2-dimensions\n",
    "    \n",
    "    # useful variables\n",
    "    m = X.shape[0]\n",
    "    num_labels = Theta2.shape[0]\n",
    "\n",
    "    # You need to return the following variables correctly \n",
    "    p = np.zeros(X.shape[0])\n",
    "\n",
    "    X = np.concatenate([np.ones((m, 1)), X], axis=1)\n",
    "    \n",
    "    a2 = sigmoid(X.dot(Theta1.T))\n",
    "    a2 = np.concatenate([np.ones((a2.shape[0], 1)), a2], axis=1)\n",
    "    \n",
    "    p = np.argmax(sigmoid(a2.dot(Theta2.T)), axis = 1)\n",
    "\n",
    "    return p"
   ]
  },
  {
   "cell_type": "markdown",
   "metadata": {},
   "source": [
    "Once you are done, call your predict function using the loaded set of parameters for `Theta1` and `Theta2`. You should see that the accuracy is about 97.5%."
   ]
  },
  {
   "cell_type": "code",
   "execution_count": 16,
   "metadata": {},
   "outputs": [
    {
     "name": "stdout",
     "output_type": "stream",
     "text": [
      "Training Set Accuracy: 0.0%\n"
     ]
    },
    {
     "name": "stderr",
     "output_type": "stream",
     "text": [
      "C:\\ProgramData\\Anaconda3\\lib\\site-packages\\ipykernel_launcher.py:2: DeprecationWarning: elementwise comparison failed; this will raise an error in the future.\n",
      "  \n"
     ]
    }
   ],
   "source": [
    "pred = predict(Theta1, Theta2, X)\n",
    "print('Training Set Accuracy: {:.1f}%'.format(np.mean(pred == y) * 100))"
   ]
  },
  {
   "cell_type": "markdown",
   "metadata": {},
   "source": [
    "After that, we will display images from the training set one at a time, while at the same time printing out the predicted label for the displayed image. \n",
    "\n",
    "Run the following cell to display a single image the the neural network's prediction. You can run the cell multiple time to see predictions for different images."
   ]
  },
  {
   "cell_type": "code",
   "execution_count": 17,
   "metadata": {},
   "outputs": [
    {
     "ename": "NameError",
     "evalue": "name 'indices' is not defined",
     "output_type": "error",
     "traceback": [
      "\u001b[1;31m---------------------------------------------------------------------------\u001b[0m",
      "\u001b[1;31mNameError\u001b[0m                                 Traceback (most recent call last)",
      "\u001b[1;32m<ipython-input-17-08359bd706d4>\u001b[0m in \u001b[0;36m<module>\u001b[1;34m\u001b[0m\n\u001b[1;32m----> 1\u001b[1;33m \u001b[1;32mif\u001b[0m \u001b[0mindices\u001b[0m\u001b[1;33m.\u001b[0m\u001b[0msize\u001b[0m \u001b[1;33m>\u001b[0m \u001b[1;36m0\u001b[0m\u001b[1;33m:\u001b[0m\u001b[1;33m\u001b[0m\u001b[1;33m\u001b[0m\u001b[0m\n\u001b[0m\u001b[0;32m      2\u001b[0m     \u001b[0mi\u001b[0m\u001b[1;33m,\u001b[0m \u001b[0mindices\u001b[0m \u001b[1;33m=\u001b[0m \u001b[0mindices\u001b[0m\u001b[1;33m[\u001b[0m\u001b[1;36m0\u001b[0m\u001b[1;33m]\u001b[0m\u001b[1;33m,\u001b[0m \u001b[0mindices\u001b[0m\u001b[1;33m[\u001b[0m\u001b[1;36m1\u001b[0m\u001b[1;33m:\u001b[0m\u001b[1;33m]\u001b[0m\u001b[1;33m\u001b[0m\u001b[1;33m\u001b[0m\u001b[0m\n\u001b[0;32m      3\u001b[0m     \u001b[0mdisplayData\u001b[0m\u001b[1;33m(\u001b[0m\u001b[0mX\u001b[0m\u001b[1;33m[\u001b[0m\u001b[0mi\u001b[0m\u001b[1;33m,\u001b[0m \u001b[1;33m:\u001b[0m\u001b[1;33m]\u001b[0m\u001b[1;33m,\u001b[0m \u001b[0mfigsize\u001b[0m\u001b[1;33m=\u001b[0m\u001b[1;33m(\u001b[0m\u001b[1;36m4\u001b[0m\u001b[1;33m,\u001b[0m \u001b[1;36m4\u001b[0m\u001b[1;33m)\u001b[0m\u001b[1;33m)\u001b[0m\u001b[1;33m\u001b[0m\u001b[1;33m\u001b[0m\u001b[0m\n\u001b[0;32m      4\u001b[0m     \u001b[0mpred\u001b[0m \u001b[1;33m=\u001b[0m \u001b[0mpredict\u001b[0m\u001b[1;33m(\u001b[0m\u001b[0mTheta1\u001b[0m\u001b[1;33m,\u001b[0m \u001b[0mTheta2\u001b[0m\u001b[1;33m,\u001b[0m \u001b[0mX\u001b[0m\u001b[1;33m[\u001b[0m\u001b[0mi\u001b[0m\u001b[1;33m,\u001b[0m \u001b[1;33m:\u001b[0m\u001b[1;33m]\u001b[0m\u001b[1;33m)\u001b[0m\u001b[1;33m\u001b[0m\u001b[1;33m\u001b[0m\u001b[0m\n\u001b[0;32m      5\u001b[0m     \u001b[0mprint\u001b[0m\u001b[1;33m(\u001b[0m\u001b[1;34m'Neural Network Prediction: {}'\u001b[0m\u001b[1;33m.\u001b[0m\u001b[0mformat\u001b[0m\u001b[1;33m(\u001b[0m\u001b[1;33m*\u001b[0m\u001b[0mpred\u001b[0m\u001b[1;33m)\u001b[0m\u001b[1;33m)\u001b[0m\u001b[1;33m\u001b[0m\u001b[1;33m\u001b[0m\u001b[0m\n",
      "\u001b[1;31mNameError\u001b[0m: name 'indices' is not defined"
     ]
    }
   ],
   "source": [
    "if indices.size > 0:\n",
    "    i, indices = indices[0], indices[1:]\n",
    "    displayData(X[i, :], figsize=(4, 4))\n",
    "    pred = predict(Theta1, Theta2, X[i, :])\n",
    "    print('Neural Network Prediction: {}'.format(*pred))\n",
    "else:\n",
    "    print('No more images to display!')"
   ]
  }
 ],
 "metadata": {
  "kernelspec": {
   "display_name": "Python 3",
   "language": "python",
   "name": "python3"
  },
  "language_info": {
   "codemirror_mode": {
    "name": "ipython",
    "version": 3
   },
   "file_extension": ".py",
   "mimetype": "text/x-python",
   "name": "python",
   "nbconvert_exporter": "python",
   "pygments_lexer": "ipython3",
   "version": "3.7.6"
  }
 },
 "nbformat": 4,
 "nbformat_minor": 2
}
